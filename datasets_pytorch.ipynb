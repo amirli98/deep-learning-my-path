{
 "cells": [
  {
   "cell_type": "code",
   "execution_count": 1,
   "id": "8de9b314",
   "metadata": {},
   "outputs": [],
   "source": [
    "import torch\n",
    "import numpy as np\n",
    "import pandas as pd\n",
    "import matplotlib.pyplot as plt\n",
    "%matplotlib inline"
   ]
  },
  {
   "cell_type": "code",
   "execution_count": 2,
   "id": "e0158de6",
   "metadata": {},
   "outputs": [
    {
     "data": {
      "text/html": [
       "<div>\n",
       "<style scoped>\n",
       "    .dataframe tbody tr th:only-of-type {\n",
       "        vertical-align: middle;\n",
       "    }\n",
       "\n",
       "    .dataframe tbody tr th {\n",
       "        vertical-align: top;\n",
       "    }\n",
       "\n",
       "    .dataframe thead th {\n",
       "        text-align: right;\n",
       "    }\n",
       "</style>\n",
       "<table border=\"1\" class=\"dataframe\">\n",
       "  <thead>\n",
       "    <tr style=\"text-align: right;\">\n",
       "      <th></th>\n",
       "      <th>sepal length (cm)</th>\n",
       "      <th>sepal width (cm)</th>\n",
       "      <th>petal length (cm)</th>\n",
       "      <th>petal width (cm)</th>\n",
       "      <th>target</th>\n",
       "    </tr>\n",
       "  </thead>\n",
       "  <tbody>\n",
       "    <tr>\n",
       "      <th>0</th>\n",
       "      <td>5.1</td>\n",
       "      <td>3.5</td>\n",
       "      <td>1.4</td>\n",
       "      <td>0.2</td>\n",
       "      <td>0.0</td>\n",
       "    </tr>\n",
       "    <tr>\n",
       "      <th>1</th>\n",
       "      <td>4.9</td>\n",
       "      <td>3.0</td>\n",
       "      <td>1.4</td>\n",
       "      <td>0.2</td>\n",
       "      <td>0.0</td>\n",
       "    </tr>\n",
       "    <tr>\n",
       "      <th>2</th>\n",
       "      <td>4.7</td>\n",
       "      <td>3.2</td>\n",
       "      <td>1.3</td>\n",
       "      <td>0.2</td>\n",
       "      <td>0.0</td>\n",
       "    </tr>\n",
       "    <tr>\n",
       "      <th>3</th>\n",
       "      <td>4.6</td>\n",
       "      <td>3.1</td>\n",
       "      <td>1.5</td>\n",
       "      <td>0.2</td>\n",
       "      <td>0.0</td>\n",
       "    </tr>\n",
       "    <tr>\n",
       "      <th>4</th>\n",
       "      <td>5.0</td>\n",
       "      <td>3.6</td>\n",
       "      <td>1.4</td>\n",
       "      <td>0.2</td>\n",
       "      <td>0.0</td>\n",
       "    </tr>\n",
       "  </tbody>\n",
       "</table>\n",
       "</div>"
      ],
      "text/plain": [
       "   sepal length (cm)  sepal width (cm)  petal length (cm)  petal width (cm)  \\\n",
       "0                5.1               3.5                1.4               0.2   \n",
       "1                4.9               3.0                1.4               0.2   \n",
       "2                4.7               3.2                1.3               0.2   \n",
       "3                4.6               3.1                1.5               0.2   \n",
       "4                5.0               3.6                1.4               0.2   \n",
       "\n",
       "   target  \n",
       "0     0.0  \n",
       "1     0.0  \n",
       "2     0.0  \n",
       "3     0.0  \n",
       "4     0.0  "
      ]
     },
     "execution_count": 2,
     "metadata": {},
     "output_type": "execute_result"
    }
   ],
   "source": [
    "df = pd.read_csv('iris.csv')\n",
    "df.head()"
   ]
  },
  {
   "cell_type": "code",
   "execution_count": 3,
   "id": "0ccdd78a",
   "metadata": {},
   "outputs": [
    {
     "data": {
      "text/plain": [
       "(150, 5)"
      ]
     },
     "execution_count": 3,
     "metadata": {},
     "output_type": "execute_result"
    }
   ],
   "source": [
    "df.shape"
   ]
  },
  {
   "cell_type": "code",
   "execution_count": 4,
   "id": "57457a5a",
   "metadata": {},
   "outputs": [],
   "source": [
    "#!pip install sklearn"
   ]
  },
  {
   "cell_type": "code",
   "execution_count": 5,
   "id": "493a7073",
   "metadata": {},
   "outputs": [],
   "source": [
    "from sklearn.model_selection import train_test_split"
   ]
  },
  {
   "cell_type": "code",
   "execution_count": 6,
   "id": "935827a2",
   "metadata": {},
   "outputs": [],
   "source": [
    "features = df.drop('target', axis=1).values\n",
    "label = df['target'].values"
   ]
  },
  {
   "cell_type": "code",
   "execution_count": 7,
   "id": "cf56f066",
   "metadata": {},
   "outputs": [],
   "source": [
    "X_train, X_test, y_train, y_test = train_test_split(features, label, test_size=.2, random_state=40)"
   ]
  },
  {
   "cell_type": "code",
   "execution_count": 8,
   "id": "c5d5600d",
   "metadata": {},
   "outputs": [],
   "source": [
    "X_train = torch.FloatTensor(X_train)\n",
    "X_test = torch.FloatTensor(X_test)"
   ]
  },
  {
   "cell_type": "code",
   "execution_count": 9,
   "id": "79c7b09d",
   "metadata": {},
   "outputs": [],
   "source": [
    "y_train = torch.LongTensor(y_train).reshape(-1, 1)\n",
    "y_test = torch.LongTensor(y_test).reshape(-1, 1)"
   ]
  },
  {
   "cell_type": "code",
   "execution_count": 10,
   "id": "59237d02",
   "metadata": {},
   "outputs": [],
   "source": [
    "# the same thing in Pytorch\n",
    "\n",
    "from torch.utils.data import TensorDataset, DataLoader"
   ]
  },
  {
   "cell_type": "code",
   "execution_count": 11,
   "id": "489c9cea",
   "metadata": {},
   "outputs": [],
   "source": [
    "data = df.drop('target', axis='columns').values\n",
    "labels = df['target'].values"
   ]
  },
  {
   "cell_type": "code",
   "execution_count": 12,
   "id": "9f2f3f9f",
   "metadata": {},
   "outputs": [],
   "source": [
    "iris = TensorDataset(torch.FloatTensor(data), torch.LongTensor(labels))"
   ]
  },
  {
   "cell_type": "code",
   "execution_count": 13,
   "id": "42705d75",
   "metadata": {},
   "outputs": [
    {
     "data": {
      "text/plain": [
       "torch.utils.data.dataset.TensorDataset"
      ]
     },
     "execution_count": 13,
     "metadata": {},
     "output_type": "execute_result"
    }
   ],
   "source": [
    "type(iris)"
   ]
  },
  {
   "cell_type": "code",
   "execution_count": 14,
   "id": "4b3df276",
   "metadata": {},
   "outputs": [],
   "source": [
    "iris_loader = DataLoader(iris, batch_size=30, shuffle=True)"
   ]
  },
  {
   "cell_type": "code",
   "execution_count": 15,
   "id": "c5a5609a",
   "metadata": {},
   "outputs": [
    {
     "name": "stdout",
     "output_type": "stream",
     "text": [
      "0 [tensor([[5.2000, 3.5000, 1.5000, 0.2000],\n",
      "        [6.2000, 2.8000, 4.8000, 1.8000],\n",
      "        [5.4000, 3.9000, 1.3000, 0.4000],\n",
      "        [6.1000, 2.9000, 4.7000, 1.4000],\n",
      "        [5.0000, 3.4000, 1.5000, 0.2000],\n",
      "        [5.5000, 2.6000, 4.4000, 1.2000],\n",
      "        [5.0000, 2.3000, 3.3000, 1.0000],\n",
      "        [6.4000, 2.8000, 5.6000, 2.2000],\n",
      "        [6.8000, 3.2000, 5.9000, 2.3000],\n",
      "        [5.8000, 2.7000, 5.1000, 1.9000],\n",
      "        [7.2000, 3.2000, 6.0000, 1.8000],\n",
      "        [5.1000, 3.5000, 1.4000, 0.3000],\n",
      "        [6.3000, 2.9000, 5.6000, 1.8000],\n",
      "        [5.0000, 3.6000, 1.4000, 0.2000],\n",
      "        [4.6000, 3.6000, 1.0000, 0.2000],\n",
      "        [7.7000, 2.8000, 6.7000, 2.0000],\n",
      "        [7.0000, 3.2000, 4.7000, 1.4000],\n",
      "        [7.2000, 3.6000, 6.1000, 2.5000],\n",
      "        [5.6000, 2.5000, 3.9000, 1.1000],\n",
      "        [5.5000, 3.5000, 1.3000, 0.2000],\n",
      "        [5.4000, 3.7000, 1.5000, 0.2000],\n",
      "        [6.3000, 2.5000, 5.0000, 1.9000],\n",
      "        [5.1000, 3.8000, 1.9000, 0.4000],\n",
      "        [5.5000, 2.4000, 3.7000, 1.0000],\n",
      "        [6.5000, 3.2000, 5.1000, 2.0000],\n",
      "        [5.0000, 3.5000, 1.6000, 0.6000],\n",
      "        [4.9000, 2.5000, 4.5000, 1.7000],\n",
      "        [6.0000, 2.2000, 5.0000, 1.5000],\n",
      "        [5.1000, 3.3000, 1.7000, 0.5000],\n",
      "        [5.1000, 3.7000, 1.5000, 0.4000]]), tensor([0, 2, 0, 1, 0, 1, 1, 2, 2, 2, 2, 0, 2, 0, 0, 2, 1, 2, 1, 0, 0, 2, 0, 1,\n",
      "        2, 0, 2, 2, 0, 0])]\n",
      "1 [tensor([[6.4000, 3.2000, 4.5000, 1.5000],\n",
      "        [6.4000, 3.1000, 5.5000, 1.8000],\n",
      "        [5.8000, 2.7000, 5.1000, 1.9000],\n",
      "        [5.6000, 2.7000, 4.2000, 1.3000],\n",
      "        [4.9000, 3.0000, 1.4000, 0.2000],\n",
      "        [5.7000, 3.0000, 4.2000, 1.2000],\n",
      "        [5.9000, 3.0000, 5.1000, 1.8000],\n",
      "        [4.7000, 3.2000, 1.6000, 0.2000],\n",
      "        [6.7000, 3.0000, 5.2000, 2.3000],\n",
      "        [5.8000, 2.6000, 4.0000, 1.2000],\n",
      "        [7.7000, 3.8000, 6.7000, 2.2000],\n",
      "        [6.1000, 2.8000, 4.0000, 1.3000],\n",
      "        [6.8000, 2.8000, 4.8000, 1.4000],\n",
      "        [5.8000, 2.7000, 4.1000, 1.0000],\n",
      "        [6.1000, 2.6000, 5.6000, 1.4000],\n",
      "        [5.6000, 2.8000, 4.9000, 2.0000],\n",
      "        [5.8000, 2.7000, 3.9000, 1.2000],\n",
      "        [6.0000, 3.4000, 4.5000, 1.6000],\n",
      "        [7.6000, 3.0000, 6.6000, 2.1000],\n",
      "        [5.1000, 3.5000, 1.4000, 0.2000],\n",
      "        [5.4000, 3.0000, 4.5000, 1.5000],\n",
      "        [5.5000, 2.4000, 3.8000, 1.1000],\n",
      "        [5.7000, 4.4000, 1.5000, 0.4000],\n",
      "        [6.7000, 2.5000, 5.8000, 1.8000],\n",
      "        [5.8000, 2.8000, 5.1000, 2.4000],\n",
      "        [6.7000, 3.3000, 5.7000, 2.1000],\n",
      "        [6.3000, 3.3000, 6.0000, 2.5000],\n",
      "        [5.4000, 3.9000, 1.7000, 0.4000],\n",
      "        [5.1000, 3.8000, 1.5000, 0.3000],\n",
      "        [4.6000, 3.1000, 1.5000, 0.2000]]), tensor([1, 2, 2, 1, 0, 1, 2, 0, 2, 1, 2, 1, 1, 1, 2, 2, 1, 1, 2, 0, 1, 1, 0, 2,\n",
      "        2, 2, 2, 0, 0, 0])]\n",
      "2 [tensor([[4.4000, 3.2000, 1.3000, 0.2000],\n",
      "        [6.0000, 2.7000, 5.1000, 1.6000],\n",
      "        [6.4000, 2.8000, 5.6000, 2.1000],\n",
      "        [6.7000, 3.3000, 5.7000, 2.5000],\n",
      "        [7.1000, 3.0000, 5.9000, 2.1000],\n",
      "        [4.8000, 3.0000, 1.4000, 0.3000],\n",
      "        [6.6000, 3.0000, 4.4000, 1.4000],\n",
      "        [6.3000, 3.4000, 5.6000, 2.4000],\n",
      "        [6.4000, 3.2000, 5.3000, 2.3000],\n",
      "        [7.7000, 3.0000, 6.1000, 2.3000],\n",
      "        [7.7000, 2.6000, 6.9000, 2.3000],\n",
      "        [5.7000, 2.9000, 4.2000, 1.3000],\n",
      "        [5.6000, 2.9000, 3.6000, 1.3000],\n",
      "        [6.5000, 3.0000, 5.2000, 2.0000],\n",
      "        [5.7000, 2.8000, 4.1000, 1.3000],\n",
      "        [5.9000, 3.2000, 4.8000, 1.8000],\n",
      "        [6.2000, 2.2000, 4.5000, 1.5000],\n",
      "        [5.4000, 3.4000, 1.7000, 0.2000],\n",
      "        [5.5000, 4.2000, 1.4000, 0.2000],\n",
      "        [5.0000, 3.0000, 1.6000, 0.2000],\n",
      "        [6.2000, 3.4000, 5.4000, 2.3000],\n",
      "        [5.7000, 2.8000, 4.5000, 1.3000],\n",
      "        [4.6000, 3.4000, 1.4000, 0.3000],\n",
      "        [4.3000, 3.0000, 1.1000, 0.1000],\n",
      "        [5.0000, 3.2000, 1.2000, 0.2000],\n",
      "        [6.7000, 3.1000, 4.4000, 1.4000],\n",
      "        [5.1000, 3.8000, 1.6000, 0.2000],\n",
      "        [5.9000, 3.0000, 4.2000, 1.5000],\n",
      "        [5.7000, 2.6000, 3.5000, 1.0000],\n",
      "        [5.7000, 2.5000, 5.0000, 2.0000]]), tensor([0, 1, 2, 2, 2, 0, 1, 2, 2, 2, 2, 1, 1, 2, 1, 1, 1, 0, 0, 0, 2, 1, 0, 0,\n",
      "        0, 1, 0, 1, 1, 2])]\n",
      "3 [tensor([[4.4000, 3.0000, 1.3000, 0.2000],\n",
      "        [6.4000, 2.9000, 4.3000, 1.3000],\n",
      "        [6.5000, 3.0000, 5.5000, 1.8000],\n",
      "        [4.9000, 3.1000, 1.5000, 0.1000],\n",
      "        [4.7000, 3.2000, 1.3000, 0.2000],\n",
      "        [5.7000, 3.8000, 1.7000, 0.3000],\n",
      "        [7.3000, 2.9000, 6.3000, 1.8000],\n",
      "        [5.6000, 3.0000, 4.1000, 1.3000],\n",
      "        [4.6000, 3.2000, 1.4000, 0.2000],\n",
      "        [5.3000, 3.7000, 1.5000, 0.2000],\n",
      "        [6.5000, 3.0000, 5.8000, 2.2000],\n",
      "        [5.2000, 2.7000, 3.9000, 1.4000],\n",
      "        [5.0000, 3.5000, 1.3000, 0.3000],\n",
      "        [4.4000, 2.9000, 1.4000, 0.2000],\n",
      "        [6.8000, 3.0000, 5.5000, 2.1000],\n",
      "        [4.8000, 3.1000, 1.6000, 0.2000],\n",
      "        [5.8000, 4.0000, 1.2000, 0.2000],\n",
      "        [5.0000, 3.3000, 1.4000, 0.2000],\n",
      "        [5.1000, 3.4000, 1.5000, 0.2000],\n",
      "        [6.7000, 3.0000, 5.0000, 1.7000],\n",
      "        [7.9000, 3.8000, 6.4000, 2.0000],\n",
      "        [6.0000, 2.2000, 4.0000, 1.0000],\n",
      "        [4.8000, 3.4000, 1.9000, 0.2000],\n",
      "        [5.2000, 4.1000, 1.5000, 0.1000],\n",
      "        [6.9000, 3.1000, 4.9000, 1.5000],\n",
      "        [6.9000, 3.1000, 5.4000, 2.1000],\n",
      "        [5.5000, 2.3000, 4.0000, 1.3000],\n",
      "        [6.5000, 2.8000, 4.6000, 1.5000],\n",
      "        [6.0000, 2.9000, 4.5000, 1.5000],\n",
      "        [7.2000, 3.0000, 5.8000, 1.6000]]), tensor([0, 1, 2, 0, 0, 0, 2, 1, 0, 0, 2, 1, 0, 0, 2, 0, 0, 0, 0, 1, 2, 1, 0, 0,\n",
      "        1, 2, 1, 1, 1, 2])]\n",
      "4 [tensor([[5.4000, 3.4000, 1.5000, 0.4000],\n",
      "        [4.9000, 2.4000, 3.3000, 1.0000],\n",
      "        [6.3000, 2.5000, 4.9000, 1.5000],\n",
      "        [6.9000, 3.1000, 5.1000, 2.3000],\n",
      "        [6.3000, 2.7000, 4.9000, 1.8000],\n",
      "        [6.7000, 3.1000, 5.6000, 2.4000],\n",
      "        [6.2000, 2.9000, 4.3000, 1.3000],\n",
      "        [4.9000, 3.1000, 1.5000, 0.1000],\n",
      "        [5.0000, 3.4000, 1.6000, 0.4000],\n",
      "        [6.1000, 3.0000, 4.6000, 1.4000],\n",
      "        [5.6000, 3.0000, 4.5000, 1.5000],\n",
      "        [5.1000, 2.5000, 3.0000, 1.1000],\n",
      "        [4.8000, 3.4000, 1.6000, 0.2000],\n",
      "        [4.8000, 3.0000, 1.4000, 0.1000],\n",
      "        [6.6000, 2.9000, 4.6000, 1.3000],\n",
      "        [7.4000, 2.8000, 6.1000, 1.9000],\n",
      "        [4.5000, 2.3000, 1.3000, 0.3000],\n",
      "        [6.9000, 3.2000, 5.7000, 2.3000],\n",
      "        [6.0000, 3.0000, 4.8000, 1.8000],\n",
      "        [6.4000, 2.7000, 5.3000, 1.9000],\n",
      "        [5.0000, 2.0000, 3.5000, 1.0000],\n",
      "        [5.5000, 2.5000, 4.0000, 1.3000],\n",
      "        [6.3000, 2.3000, 4.4000, 1.3000],\n",
      "        [6.3000, 3.3000, 4.7000, 1.6000],\n",
      "        [6.1000, 3.0000, 4.9000, 1.8000],\n",
      "        [6.3000, 2.8000, 5.1000, 1.5000],\n",
      "        [5.2000, 3.4000, 1.4000, 0.2000],\n",
      "        [6.7000, 3.1000, 4.7000, 1.5000],\n",
      "        [4.9000, 3.1000, 1.5000, 0.1000],\n",
      "        [6.1000, 2.8000, 4.7000, 1.2000]]), tensor([0, 1, 1, 2, 2, 2, 1, 0, 0, 1, 1, 1, 0, 0, 1, 2, 0, 2, 2, 2, 1, 1, 1, 1,\n",
      "        2, 2, 0, 1, 0, 1])]\n"
     ]
    }
   ],
   "source": [
    "for i_batch, sample_batch in enumerate(iris_loader):\n",
    "    print(i_batch, sample_batch)"
   ]
  },
  {
   "cell_type": "code",
   "execution_count": 16,
   "id": "0c544370",
   "metadata": {},
   "outputs": [],
   "source": [
    "# basic ANN in Pytorch\n",
    "\n",
    "import torch\n",
    "import torch.nn as nn\n",
    "import torch.nn.functional as F"
   ]
  },
  {
   "cell_type": "code",
   "execution_count": 17,
   "id": "9cf41490",
   "metadata": {},
   "outputs": [],
   "source": [
    "class Model(nn.Module):\n",
    "    \n",
    "    def __init__(self, in_features=4, h1=8, h2=9, out_features=3):\n",
    "        super().__init__()\n",
    "        self.fc1 = nn.Linear(in_features, h1)\n",
    "        self.fc2 = nn.Linear(h1, h2)\n",
    "        self.out = nn.Linear(h2, out_features)\n",
    "        \n",
    "        \n",
    "        \n",
    "        \n",
    "    def forward(self, x):\n",
    "        x = F.relu(self.fc1(x))\n",
    "        x = F.relu(self.fc2(x))\n",
    "        x = self.out(x)\n",
    "        \n",
    "        return x"
   ]
  },
  {
   "cell_type": "code",
   "execution_count": 18,
   "id": "bc21099e",
   "metadata": {},
   "outputs": [],
   "source": [
    "torch.manual_seed(32)\n",
    "model = Model()"
   ]
  },
  {
   "cell_type": "code",
   "execution_count": 19,
   "id": "5bc7cc56",
   "metadata": {},
   "outputs": [],
   "source": [
    "X = df.drop('target', axis='columns')\n",
    "y = df.target"
   ]
  },
  {
   "cell_type": "code",
   "execution_count": 20,
   "id": "4860bb49",
   "metadata": {},
   "outputs": [],
   "source": [
    "X = X.values\n",
    "y = y.values"
   ]
  },
  {
   "cell_type": "code",
   "execution_count": 21,
   "id": "02131d74",
   "metadata": {},
   "outputs": [],
   "source": [
    "X_train, X_test, y_train, y_test = \\\n",
    "                    train_test_split(X, y, test_size=.2, random_state=33)"
   ]
  },
  {
   "cell_type": "code",
   "execution_count": 22,
   "id": "3765a0c7",
   "metadata": {},
   "outputs": [],
   "source": [
    "X_train = torch.FloatTensor(X_train)\n",
    "X_test = torch.FloatTensor(X_test)"
   ]
  },
  {
   "cell_type": "code",
   "execution_count": 23,
   "id": "efdcc1bd",
   "metadata": {},
   "outputs": [],
   "source": [
    "y_train = torch.LongTensor(y_train)\n",
    "y_test = torch.LongTensor(y_test)"
   ]
  },
  {
   "cell_type": "code",
   "execution_count": 24,
   "id": "6c867480",
   "metadata": {},
   "outputs": [],
   "source": [
    "criterion = nn.CrossEntropyLoss()\n",
    "optimizer = torch.optim.Adam(model.parameters(), lr=.001)"
   ]
  },
  {
   "cell_type": "code",
   "execution_count": 25,
   "id": "6bd45006",
   "metadata": {},
   "outputs": [
    {
     "data": {
      "text/plain": [
       "<bound method Module.parameters of Model(\n",
       "  (fc1): Linear(in_features=4, out_features=8, bias=True)\n",
       "  (fc2): Linear(in_features=8, out_features=9, bias=True)\n",
       "  (out): Linear(in_features=9, out_features=3, bias=True)\n",
       ")>"
      ]
     },
     "execution_count": 25,
     "metadata": {},
     "output_type": "execute_result"
    }
   ],
   "source": [
    "model.parameters"
   ]
  },
  {
   "cell_type": "code",
   "execution_count": 26,
   "id": "a2738604",
   "metadata": {},
   "outputs": [
    {
     "name": "stdout",
     "output_type": "stream",
     "text": [
      "Epoch 10, and loss is 1.119666337966919\n",
      "Epoch 20, and loss is 1.0878665447235107\n",
      "Epoch 30, and loss is 1.0632193088531494\n",
      "Epoch 40, and loss is 1.0388150215148926\n",
      "Epoch 50, and loss is 1.0132087469100952\n",
      "Epoch 60, and loss is 0.9884135127067566\n",
      "Epoch 70, and loss is 0.9638591408729553\n",
      "Epoch 80, and loss is 0.9414136409759521\n",
      "Epoch 90, and loss is 0.9191409945487976\n",
      "Epoch 100, and loss is 0.8962752223014832\n",
      "Epoch 110, and loss is 0.8732836842536926\n",
      "Epoch 120, and loss is 0.8505951166152954\n",
      "Epoch 130, and loss is 0.8287228941917419\n",
      "Epoch 140, and loss is 0.8079700469970703\n",
      "Epoch 150, and loss is 0.7884194254875183\n",
      "Epoch 160, and loss is 0.7700219750404358\n",
      "Epoch 170, and loss is 0.7530107498168945\n",
      "Epoch 180, and loss is 0.7372433543205261\n",
      "Epoch 190, and loss is 0.7221634984016418\n",
      "Epoch 200, and loss is 0.7078309655189514\n",
      "Epoch 210, and loss is 0.6940539479255676\n",
      "Epoch 220, and loss is 0.6808221340179443\n",
      "Epoch 230, and loss is 0.6682024002075195\n",
      "Epoch 240, and loss is 0.6558867692947388\n",
      "Epoch 250, and loss is 0.6435720920562744\n",
      "Epoch 260, and loss is 0.6311522722244263\n",
      "Epoch 270, and loss is 0.6138445138931274\n",
      "Epoch 280, and loss is 0.5732778906822205\n",
      "Epoch 290, and loss is 0.5123418569564819\n",
      "Epoch 300, and loss is 0.4603598713874817\n",
      "Epoch 310, and loss is 0.4187612235546112\n",
      "Epoch 320, and loss is 0.38380810618400574\n",
      "Epoch 330, and loss is 0.35332128405570984\n",
      "Epoch 340, and loss is 0.3264564871788025\n",
      "Epoch 350, and loss is 0.3024725615978241\n",
      "Epoch 360, and loss is 0.280791699886322\n",
      "Epoch 370, and loss is 0.26117172837257385\n",
      "Epoch 380, and loss is 0.24331972002983093\n",
      "Epoch 390, and loss is 0.22701987624168396\n",
      "Epoch 400, and loss is 0.21216627955436707\n",
      "Epoch 410, and loss is 0.19865445792675018\n",
      "Epoch 420, and loss is 0.18639206886291504\n",
      "Epoch 430, and loss is 0.17528986930847168\n",
      "Epoch 440, and loss is 0.1652669459581375\n",
      "Epoch 450, and loss is 0.15624935925006866\n",
      "Epoch 460, and loss is 0.14814159274101257\n",
      "Epoch 470, and loss is 0.1408543884754181\n",
      "Epoch 480, and loss is 0.13431690633296967\n",
      "Epoch 490, and loss is 0.1284373700618744\n",
      "Epoch 500, and loss is 0.12312313169240952\n",
      "Epoch 510, and loss is 0.11830690503120422\n",
      "Epoch 520, and loss is 0.1139427050948143\n",
      "Epoch 530, and loss is 0.10998126119375229\n",
      "Epoch 540, and loss is 0.10636360198259354\n",
      "Epoch 550, and loss is 0.10305102169513702\n",
      "Epoch 560, and loss is 0.10001464933156967\n",
      "Epoch 570, and loss is 0.09722334891557693\n",
      "Epoch 580, and loss is 0.09464899450540543\n",
      "Epoch 590, and loss is 0.09226944297552109\n",
      "Epoch 600, and loss is 0.09006519615650177\n",
      "Epoch 610, and loss is 0.08801913261413574\n",
      "Epoch 620, and loss is 0.08612120151519775\n",
      "Epoch 630, and loss is 0.08435462415218353\n",
      "Epoch 640, and loss is 0.08270800113677979\n",
      "Epoch 650, and loss is 0.08116988837718964\n",
      "Epoch 660, and loss is 0.07973016798496246\n",
      "Epoch 670, and loss is 0.07837939262390137\n",
      "Epoch 680, and loss is 0.07710972428321838\n",
      "Epoch 690, and loss is 0.07591444998979568\n",
      "Epoch 700, and loss is 0.07478777319192886\n",
      "Epoch 710, and loss is 0.07372523844242096\n",
      "Epoch 720, and loss is 0.07272113859653473\n",
      "Epoch 730, and loss is 0.07177085429430008\n",
      "Epoch 740, and loss is 0.07087055593729019\n",
      "Epoch 750, and loss is 0.07001887261867523\n",
      "Epoch 760, and loss is 0.06921055167913437\n",
      "Epoch 770, and loss is 0.06844290345907211\n",
      "Epoch 780, and loss is 0.06771238893270493\n",
      "Epoch 790, and loss is 0.06701632589101791\n",
      "Epoch 800, and loss is 0.06635239720344543\n",
      "Epoch 810, and loss is 0.06571854650974274\n",
      "Epoch 820, and loss is 0.06511284410953522\n",
      "Epoch 830, and loss is 0.06453350931406021\n",
      "Epoch 840, and loss is 0.06397896260023117\n",
      "Epoch 850, and loss is 0.06344768404960632\n",
      "Epoch 860, and loss is 0.06293831020593643\n",
      "Epoch 870, and loss is 0.06244974955916405\n",
      "Epoch 880, and loss is 0.06198081001639366\n",
      "Epoch 890, and loss is 0.06153031438589096\n",
      "Epoch 900, and loss is 0.061097096651792526\n",
      "Epoch 910, and loss is 0.06068026274442673\n",
      "Epoch 920, and loss is 0.06027884781360626\n",
      "Epoch 930, and loss is 0.059892117977142334\n",
      "Epoch 940, and loss is 0.05951927229762077\n",
      "Epoch 950, and loss is 0.059159524738788605\n",
      "Epoch 960, and loss is 0.0588122121989727\n",
      "Epoch 970, and loss is 0.05847670137882233\n",
      "Epoch 980, and loss is 0.05815233290195465\n",
      "Epoch 990, and loss is 0.057838596403598785\n",
      "Epoch 1000, and loss is 0.05753491073846817\n"
     ]
    }
   ],
   "source": [
    "num_epochs = 1000\n",
    "losses = list()\n",
    "\n",
    "for i in range(num_epochs):\n",
    "    y_pred = model.forward(X_train)\n",
    "    loss = criterion(y_pred, y_train)\n",
    "    losses.append(loss.item())\n",
    "    if (i+1)%10 == 0:\n",
    "        print(f'Epoch {i+1}, and loss is {loss}')\n",
    "    optimizer.zero_grad()\n",
    "    loss.backward()\n",
    "    optimizer.step()\n",
    "    "
   ]
  },
  {
   "cell_type": "code",
   "execution_count": 27,
   "id": "b16db02b",
   "metadata": {},
   "outputs": [
    {
     "data": {
      "text/plain": [
       "Text(0.5, 0, 'epoch')"
      ]
     },
     "execution_count": 27,
     "metadata": {},
     "output_type": "execute_result"
    },
    {
     "data": {
      "image/png": "[encoded data removed]",
      "text/plain": [
       "<Figure size 432x288 with 1 Axes>"
      ]
     },
     "metadata": {
      "needs_background": "light"
     },
     "output_type": "display_data"
    }
   ],
   "source": [
    "plt.plot(range(num_epochs), losses, 'r')\n",
    "plt.ylabel('LOSS')\n",
    "plt.xlabel('epoch')"
   ]
  },
  {
   "cell_type": "code",
   "execution_count": 28,
   "id": "6574d253",
   "metadata": {},
   "outputs": [],
   "source": [
    "with torch.no_grad():\n",
    "    y_eval = model.forward(X_test)\n",
    "    loss = criterion(y_eval, y_test)"
   ]
  },
  {
   "cell_type": "code",
   "execution_count": 29,
   "id": "c31dca5e",
   "metadata": {},
   "outputs": [
    {
     "data": {
      "text/plain": [
       "tensor(0.0560)"
      ]
     },
     "execution_count": 29,
     "metadata": {},
     "output_type": "execute_result"
    }
   ],
   "source": [
    "loss"
   ]
  },
  {
   "cell_type": "code",
   "execution_count": 32,
   "id": "1cb7c50e",
   "metadata": {},
   "outputs": [
    {
     "name": "stdout",
     "output_type": "stream",
     "text": [
      "1 tensor([-1.5982,  5.4332, -0.4496]) 1\n",
      "2 tensor([-1.4483,  6.1249, -0.9493]) 1\n",
      "3 tensor([ 5.0139, -0.6548, -7.4435]) 0\n",
      "4 tensor([-3.1349,  5.2119,  1.2768]) 1\n",
      "5 tensor([-6.2794,  2.6860,  5.5604]) 2\n",
      "6 tensor([-8.8792,  0.4192,  8.9435]) 2\n",
      "7 tensor([ 4.9307, -0.5031, -7.4138]) 0\n",
      "8 tensor([ 5.6056, -0.9594, -8.1330]) 0\n",
      "9 tensor([-6.0586,  2.7504,  5.2582]) 2\n",
      "10 tensor([-7.8943,  1.7156,  7.5663]) 2\n",
      "11 tensor([-8.4952,  1.1762,  8.3993]) 2\n",
      "12 tensor([ 4.9999, -0.7994, -7.2969]) 0\n",
      "13 tensor([-7.8573,  1.1393,  7.7133]) 2\n",
      "14 tensor([-3.0650,  4.8259,  1.3399]) 1\n",
      "15 tensor([-6.4999,  2.7525,  5.7090]) 2\n",
      "16 tensor([-1.4817,  6.0019, -0.8403]) 1\n",
      "17 tensor([-4.6743,  3.3464,  3.5708]) 2\n",
      "18 tensor([ 5.6900, -0.9530, -8.2740]) 0\n",
      "19 tensor([-2.6818,  5.0352,  0.8254]) 1\n",
      "20 tensor([-6.6109,  3.1789,  5.6876]) 2\n",
      "21 tensor([ 5.2394, -0.7339, -7.7379]) 0\n",
      "22 tensor([ 5.8545, -0.8644, -8.6145]) 0\n",
      "23 tensor([-8.3505,  1.0427,  8.2709]) 2\n",
      "24 tensor([ 5.1925, -0.7519, -7.6472]) 0\n",
      "25 tensor([-6.0829,  2.8603,  5.3060]) 2\n",
      "26 tensor([-5.0313,  3.4043,  3.9421]) 2\n",
      "27 tensor([-2.5415,  5.1502,  0.6585]) 1\n",
      "28 tensor([-1.2484,  5.6011, -0.9973]) 1\n",
      "29 tensor([-6.1721,  2.7348,  5.3827]) 2\n",
      "30 tensor([-5.5673,  2.6041,  4.7921]) 2\n",
      "We got 30 predictions.\n"
     ]
    }
   ],
   "source": [
    "correct = 0\n",
    "with torch.no_grad():\n",
    "    for i, data in enumerate(X_test):\n",
    "        y_val = model.forward(data)\n",
    "        print(f'{i+1} {str(y_val)} {y_test[i]}')\n",
    "        if y_val.argmax().item() == y_test[i]:\n",
    "            correct += 1\n",
    "print(f'We got {correct} predictions.')"
   ]
  },
  {
   "cell_type": "code",
   "execution_count": 33,
   "id": "2cbe4a75",
   "metadata": {},
   "outputs": [],
   "source": [
    "# saving the model\n",
    "# only weights and biases\n",
    "# all model -> torch.save(model, 'path.pt')\n",
    "torch.save(model.state_dict(), 'my_iris_model.pt')"
   ]
  },
  {
   "cell_type": "code",
   "execution_count": 34,
   "id": "a9829ea1",
   "metadata": {},
   "outputs": [
    {
     "data": {
      "text/plain": [
       "<All keys matched successfully>"
      ]
     },
     "execution_count": 34,
     "metadata": {},
     "output_type": "execute_result"
    }
   ],
   "source": [
    "new_model = Model()\n",
    "new_model.load_state_dict(torch.load('my_iris_model.pt'))"
   ]
  },
  {
   "cell_type": "code",
   "execution_count": 35,
   "id": "aef2cc62",
   "metadata": {},
   "outputs": [
    {
     "data": {
      "text/plain": [
       "Model(\n",
       "  (fc1): Linear(in_features=4, out_features=8, bias=True)\n",
       "  (fc2): Linear(in_features=8, out_features=9, bias=True)\n",
       "  (out): Linear(in_features=9, out_features=3, bias=True)\n",
       ")"
      ]
     },
     "execution_count": 35,
     "metadata": {},
     "output_type": "execute_result"
    }
   ],
   "source": [
    "new_model.eval()"
   ]
  },
  {
   "cell_type": "code",
   "execution_count": null,
   "id": "bcecc65d",
   "metadata": {},
   "outputs": [],
   "source": []
  }
 ],
 "metadata": {
  "kernelspec": {
   "display_name": "Python 3 (ipykernel)",
   "language": "python",
   "name": "python3"
  },
  "language_info": {
   "codemirror_mode": {
    "name": "ipython",
    "version": 3
   },
   "file_extension": ".py",
   "mimetype": "text/x-python",
   "name": "python",
   "nbconvert_exporter": "python",
   "pygments_lexer": "ipython3",
   "version": "3.8.8"
  }
 },
 "nbformat": 4,
 "nbformat_minor": 5
}
